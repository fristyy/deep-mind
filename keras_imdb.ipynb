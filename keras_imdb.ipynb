{
 "cells": [
  {
   "cell_type": "code",
   "execution_count": 1,
   "metadata": {},
   "outputs": [
    {
     "name": "stderr",
     "output_type": "stream",
     "text": [
      "Using TensorFlow backend.\n"
     ]
    }
   ],
   "source": [
    "from keras.datasets import imdb\n",
    "import numpy as np\n",
    "\n",
    "(train_data, train_lables), (test_data, test_lables) = imdb.load_data(num_words=10000)"
   ]
  },
  {
   "cell_type": "code",
   "execution_count": 2,
   "metadata": {},
   "outputs": [],
   "source": [
    "def vectorize_sequences(sequences, dimension=10000):\n",
    "    results = np.zeros((len(sequences), dimension))\n",
    "    for i, sequence in enumerate(sequences):\n",
    "        results[i, sequence] = 1\n",
    "    return results\n",
    "\n",
    "x_train = vectorize_sequences(train_data)\n",
    "x_test = vectorize_sequences(test_data)\n",
    "\n",
    "y_train = train_lables.astype('float32')\n",
    "y_test = test_lables.astype('float32')"
   ]
  },
  {
   "cell_type": "code",
   "execution_count": 4,
   "metadata": {},
   "outputs": [
    {
     "name": "stdout",
     "output_type": "stream",
     "text": [
      "Train on 15000 samples, validate on 10000 samples\n",
      "Epoch 1/20\n",
      "15000/15000 [==============================] - 209s 14ms/step - loss: 0.5331 - acc: 0.7977 - val_loss: 0.4196 - val_acc: 0.8564\n",
      "Epoch 2/20\n",
      "15000/15000 [==============================] - 3s 233us/step - loss: 0.3290 - acc: 0.9015 - val_loss: 0.3206 - val_acc: 0.8841\n",
      "Epoch 3/20\n",
      "15000/15000 [==============================] - 3s 223us/step - loss: 0.2400 - acc: 0.9269 - val_loss: 0.2942 - val_acc: 0.8857\n",
      "Epoch 4/20\n",
      "15000/15000 [==============================] - 3s 223us/step - loss: 0.1919 - acc: 0.9388 - val_loss: 0.2748 - val_acc: 0.8912\n",
      "Epoch 5/20\n",
      "15000/15000 [==============================] - 3s 222us/step - loss: 0.1579 - acc: 0.9505 - val_loss: 0.2739 - val_acc: 0.8888\n",
      "Epoch 6/20\n",
      "15000/15000 [==============================] - 3s 227us/step - loss: 0.1320 - acc: 0.9597 - val_loss: 0.2819 - val_acc: 0.8867\n",
      "Epoch 7/20\n",
      "15000/15000 [==============================] - 3s 228us/step - loss: 0.1125 - acc: 0.9662 - val_loss: 0.2960 - val_acc: 0.8850\n",
      "Epoch 8/20\n",
      "15000/15000 [==============================] - 4s 238us/step - loss: 0.0928 - acc: 0.9727 - val_loss: 0.3128 - val_acc: 0.8856\n",
      "Epoch 9/20\n",
      "15000/15000 [==============================] - 3s 225us/step - loss: 0.0770 - acc: 0.9783 - val_loss: 0.3310 - val_acc: 0.8805\n",
      "Epoch 10/20\n",
      "15000/15000 [==============================] - 3s 222us/step - loss: 0.0657 - acc: 0.9819 - val_loss: 0.3611 - val_acc: 0.8806\n",
      "Epoch 11/20\n",
      "15000/15000 [==============================] - 3s 222us/step - loss: 0.0532 - acc: 0.9876 - val_loss: 0.3765 - val_acc: 0.8784\n",
      "Epoch 12/20\n",
      "15000/15000 [==============================] - 3s 225us/step - loss: 0.0438 - acc: 0.9904 - val_loss: 0.4138 - val_acc: 0.8737\n",
      "Epoch 13/20\n",
      "15000/15000 [==============================] - 3s 228us/step - loss: 0.0372 - acc: 0.9920 - val_loss: 0.4285 - val_acc: 0.8749\n",
      "Epoch 14/20\n",
      "15000/15000 [==============================] - 3s 226us/step - loss: 0.0321 - acc: 0.9929 - val_loss: 0.4794 - val_acc: 0.8715\n",
      "Epoch 15/20\n",
      "15000/15000 [==============================] - 3s 224us/step - loss: 0.0224 - acc: 0.9969 - val_loss: 0.4876 - val_acc: 0.8714\n",
      "Epoch 16/20\n",
      "15000/15000 [==============================] - 3s 231us/step - loss: 0.0208 - acc: 0.9967 - val_loss: 0.5396 - val_acc: 0.8714\n",
      "Epoch 17/20\n",
      "15000/15000 [==============================] - 3s 224us/step - loss: 0.0136 - acc: 0.9989 - val_loss: 0.5559 - val_acc: 0.8702\n",
      "Epoch 18/20\n",
      "15000/15000 [==============================] - 3s 229us/step - loss: 0.0123 - acc: 0.9986 - val_loss: 0.5917 - val_acc: 0.8677\n",
      "Epoch 19/20\n",
      "15000/15000 [==============================] - 3s 228us/step - loss: 0.0090 - acc: 0.9993 - val_loss: 0.6260 - val_acc: 0.8675\n",
      "Epoch 20/20\n",
      "15000/15000 [==============================] - 3s 223us/step - loss: 0.0082 - acc: 0.9990 - val_loss: 0.6512 - val_acc: 0.8661\n"
     ]
    }
   ],
   "source": [
    "from keras import models\n",
    "from keras import layers\n",
    "\n",
    "model = models.Sequential()\n",
    "model.add(layers.Dense(16, activation='relu', input_shape=(10000,)))\n",
    "model.add(layers.Dense(16, activation='relu'))\n",
    "model.add(layers.Dense(1, activation='sigmoid'))\n",
    "\n",
    "model.compile(optimizer='rmsprop',loss = 'binary_crossentropy', \n",
    "             metrics=['accuracy'])\n",
    "\n",
    "x_val = x_train[:10000]\n",
    "partial_x_train = x_train[10000:]\n",
    "y_val = y_train[:10000]\n",
    "partial_y_train = y_train[10000:]\n",
    "\n",
    "history = model.fit(partial_x_train,partial_y_train,\n",
    "                   epochs=20, batch_size=512, validation_data=(x_val, y_val))"
   ]
  },
  {
   "cell_type": "code",
   "execution_count": 5,
   "metadata": {},
   "outputs": [
    {
     "data": {
      "text/plain": [
       "dict_keys(['val_loss', 'val_acc', 'loss', 'acc'])"
      ]
     },
     "execution_count": 5,
     "metadata": {},
     "output_type": "execute_result"
    }
   ],
   "source": [
    "history_dict = history.history\n",
    "history_dict.keys()"
   ]
  },
  {
   "cell_type": "code",
   "execution_count": 8,
   "metadata": {},
   "outputs": [
    {
     "data": {
      "image/png": "[encoded data removed]",
      "text/plain": [
       "<Figure size 432x288 with 1 Axes>"
      ]
     },
     "metadata": {
      "needs_background": "light"
     },
     "output_type": "display_data"
    }
   ],
   "source": [
    "import matplotlib.pyplot as plt\n",
    "loss_values = history_dict['loss']\n",
    "val_loss_values = history_dict['val_loss']\n",
    "\n",
    "epochs = range(1, len(loss_values) + 1)\n",
    "\n",
    "plt.plot(epochs, loss_values, 'bo', label= 'Training loss')\n",
    "plt.plot(epochs, val_loss_values, 'b', label='Validation loss')\n",
    "plt.title('Training and validation loss')\n",
    "plt.xlabel('Epochs')\n",
    "plt.ylabel('Loss')\n",
    "plt.legend()\n",
    "\n",
    "plt.show()"
   ]
  },
  {
   "cell_type": "code",
   "execution_count": 10,
   "metadata": {},
   "outputs": [
    {
     "data": {
      "image/png": "[encoded data removed]",
      "text/plain": [
       "<Figure size 432x288 with 1 Axes>"
      ]
     },
     "metadata": {
      "needs_background": "light"
     },
     "output_type": "display_data"
    }
   ],
   "source": [
    "plt.clf()\n",
    "acc = history_dict['acc']\n",
    "val_acc = history_dict['val_acc']\n",
    "\n",
    "plt.plot(epochs, acc, 'bo', label='Training acc')\n",
    "plt.plot(epochs, val_acc, 'b', label='Validation acc')\n",
    "plt.title('Training and validation accuracy')\n",
    "plt.xlabel('Epochs')\n",
    "plt.xlabel('Accuracy')\n",
    "plt.legend()\n",
    "\n",
    "plt.show()"
   ]
  },
  {
   "cell_type": "code",
   "execution_count": null,
   "metadata": {},
   "outputs": [],
   "source": []
  }
 ],
 "metadata": {
  "kernelspec": {
   "display_name": "Python 3",
   "language": "python",
   "name": "python3"
  },
  "language_info": {
   "codemirror_mode": {
    "name": "ipython",
    "version": 3
   },
   "file_extension": ".py",
   "mimetype": "text/x-python",
   "name": "python",
   "nbconvert_exporter": "python",
   "pygments_lexer": "ipython3",
   "version": "3.6.8"
  }
 },
 "nbformat": 4,
 "nbformat_minor": 2
}
